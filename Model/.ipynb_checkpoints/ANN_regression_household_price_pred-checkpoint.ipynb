{
 "cells": [
  {
   "cell_type": "code",
   "execution_count": 1,
   "metadata": {},
   "outputs": [],
   "source": [
    "import numpy as np\n",
    "import pandas as pd\n",
    "import tensorflow as tf\n",
    "import matplotlib.pyplot as plt\n",
    "import numpy as np"
   ]
  },
  {
   "cell_type": "code",
   "execution_count": 2,
   "metadata": {},
   "outputs": [],
   "source": [
    "dataset = pd.read_csv('data/soup_aruodas_2021_10_16-1507.csv', decimal=',')\n",
    "dataset = dataset[dataset['city'].isin(['Vilnius', 'Kaunas', 'Klaipėda', 'Palanga', 'Šiauliai', 'Panevėžys'])]"
   ]
  },
  {
   "cell_type": "code",
   "execution_count": 3,
   "metadata": {},
   "outputs": [],
   "source": [
    "# cleaning data\n",
    "cleanData = dataset.copy()\n",
    "cleanData = cleanData.drop(['avg_heat_per_m', 'heating_type', 'building_type', 'floor', 'installation'], 1)\n",
    "cleanData.dropna(inplace=True)"
   ]
  },
  {
   "cell_type": "code",
   "execution_count": 4,
   "metadata": {},
   "outputs": [],
   "source": [
    "# separating features set from dependent variable\n",
    "y = cleanData.iloc[:, -1].values\n",
    "y = y.reshape(len(y),1)\n",
    "X = cleanData.iloc[:, :-1]\n",
    "# encoding the categorical data\n",
    "X = pd.get_dummies(X, columns=['city']).values"
   ]
  },
  {
   "cell_type": "code",
   "execution_count": 5,
   "metadata": {},
   "outputs": [],
   "source": [
    "# splitting the dataset into the Training set and Test set\n",
    "from sklearn.model_selection import train_test_split\n",
    "X_train, X_test, y_train, y_test = train_test_split(X, y, test_size = 0.2, random_state = 0)"
   ]
  },
  {
   "cell_type": "code",
   "execution_count": 6,
   "metadata": {},
   "outputs": [],
   "source": [
    "# feature Scaling\n",
    "from sklearn.preprocessing import StandardScaler\n",
    "sc_X = StandardScaler()\n",
    "sc_y = StandardScaler()\n",
    "X_train = sc_X.fit_transform(X_train)\n",
    "X_test = sc_X.transform(X_test)\n",
    "y_train = sc_y.fit_transform(y_train)\n",
    "y_test = sc_y.transform(y_test)"
   ]
  },
  {
   "cell_type": "code",
   "execution_count": 7,
   "metadata": {},
   "outputs": [
    {
     "name": "stdout",
     "output_type": "stream",
     "text": [
      "                            OLS Regression Results                            \n",
      "==============================================================================\n",
      "Dep. Variable:                      y   R-squared:                       0.564\n",
      "Model:                            OLS   Adj. R-squared:                  0.562\n",
      "Method:                 Least Squares   F-statistic:                     334.0\n",
      "Date:                Sat, 27 Nov 2021   Prob (F-statistic):               0.00\n",
      "Time:                        16:18:39   Log-Likelihood:                -2080.7\n",
      "No. Observations:                2073   AIC:                             4179.\n",
      "Df Residuals:                    2064   BIC:                             4230.\n",
      "Df Model:                           8                                         \n",
      "Covariance Type:            nonrobust                                         \n",
      "==============================================================================\n",
      "                 coef    std err          t      P>|t|      [0.025      0.975]\n",
      "------------------------------------------------------------------------------\n",
      "const       5.638e-17      0.015   3.88e-15      1.000      -0.028       0.028\n",
      "x1             0.0504      0.015      3.382      0.001       0.021       0.080\n",
      "x2             0.7751      0.026     29.700      0.000       0.724       0.826\n",
      "x3            -0.1364      0.026     -5.231      0.000      -0.188      -0.085\n",
      "x4            -0.0707      0.012     -5.940      0.000      -0.094      -0.047\n",
      "x5            -0.1217      0.011    -10.945      0.000      -0.143      -0.100\n",
      "x6             0.1294      0.013      9.660      0.000       0.103       0.156\n",
      "x7            -0.1104      0.014     -8.093      0.000      -0.137      -0.084\n",
      "x8             0.1763      0.010     17.948      0.000       0.157       0.196\n",
      "x9            -0.0889      0.014     -6.572      0.000      -0.115      -0.062\n",
      "==============================================================================\n",
      "Omnibus:                     1926.416   Durbin-Watson:                   1.965\n",
      "Prob(Omnibus):                  0.000   Jarque-Bera (JB):           186707.774\n",
      "Skew:                           4.026   Prob(JB):                         0.00\n",
      "Kurtosis:                      48.790   Cond. No.                     4.96e+15\n",
      "==============================================================================\n",
      "\n",
      "Notes:\n",
      "[1] Standard Errors assume that the covariance matrix of the errors is correctly specified.\n",
      "[2] The smallest eigenvalue is 1.58e-28. This might indicate that there are\n",
      "strong multicollinearity problems or that the design matrix is singular.\n"
     ]
    }
   ],
   "source": [
    "#checking each feature significance\n",
    "import statsmodels.api as sm\n",
    "X_train_sm = np.array(X_train, dtype=float)\n",
    "X_train_sm = sm.add_constant(X_train_sm)\n",
    "lm_1 = sm.OLS(y_train, X_train_sm).fit()\n",
    "print(lm_1.summary())"
   ]
  },
  {
   "cell_type": "code",
   "execution_count": 8,
   "metadata": {},
   "outputs": [],
   "source": [
    "# defining ANN model\n",
    "def ann_model():\n",
    "    ann = tf.keras.models.Sequential()\n",
    "    ann.add(tf.keras.layers.Dense(units=5, activation='relu'))\n",
    "    ann.add(tf.keras.layers.Dense(units=5, activation='relu'))\n",
    "    ann.add(tf.keras.layers.Dense(units=5, activation='relu'))\n",
    "    ann.add(tf.keras.layers.Dense(units=1))\n",
    "    ann.compile(optimizer = 'adam', loss = 'mean_squared_error')\n",
    "    return ann"
   ]
  },
  {
   "cell_type": "code",
   "execution_count": 14,
   "metadata": {},
   "outputs": [],
   "source": [
    "ann = ann_model()\n",
    "history = ann.fit(X_train, y_train, batch_size = 32, epochs = 100, validation_data = (X_test, y_test), verbose = 0)"
   ]
  },
  {
   "cell_type": "code",
   "execution_count": 15,
   "metadata": {},
   "outputs": [
    {
     "data": {
      "image/png": "[encoded data removed]",
      "text/plain": [
       "<Figure size 432x288 with 1 Axes>"
      ]
     },
     "metadata": {
      "needs_background": "light"
     },
     "output_type": "display_data"
    }
   ],
   "source": [
    "#learning curve\n",
    "plt.plot(history.history['loss'])\n",
    "plt.plot(history.history['val_loss'])\n",
    "plt.title('Model loss')\n",
    "plt.ylabel('Loss')\n",
    "plt.xlabel('Epoch')\n",
    "plt.legend(['Train', 'Validation'], loc='upper right')\n",
    "plt.show()"
   ]
  },
  {
   "cell_type": "code",
   "execution_count": 16,
   "metadata": {},
   "outputs": [],
   "source": [
    "y_pred_train = sc_y.inverse_transform(ann.predict(X_train))\n",
    "y_pred = sc_y.inverse_transform(ann.predict(X_test))\n",
    "#np.set_printoptions(precision=2)\n",
    "#print(np.concatenate((y_pred.reshape(len(y_pred),1), sc_y.inverse_transform(y_test).reshape(len(y_test),1)),1))"
   ]
  },
  {
   "cell_type": "code",
   "execution_count": 17,
   "metadata": {},
   "outputs": [
    {
     "name": "stdout",
     "output_type": "stream",
     "text": [
      "0.6885357201165778\n",
      "0.6337146031752543\n"
     ]
    }
   ],
   "source": [
    "from sklearn.metrics import r2_score\n",
    "print(r2_score(sc_y.inverse_transform(y_train), y_pred_train))\n",
    "print(r2_score(sc_y.inverse_transform(y_test), y_pred))"
   ]
  }
 ],
 "metadata": {
  "kernelspec": {
   "display_name": "Python 3",
   "language": "python",
   "name": "python3"
  },
  "language_info": {
   "codemirror_mode": {
    "name": "ipython",
    "version": 3
   },
   "file_extension": ".py",
   "mimetype": "text/x-python",
   "name": "python",
   "nbconvert_exporter": "python",
   "pygments_lexer": "ipython3",
   "version": "3.8.5"
  }
 },
 "nbformat": 4,
 "nbformat_minor": 4
}
