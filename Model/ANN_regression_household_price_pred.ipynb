{
 "cells": [
  {
   "cell_type": "code",
   "execution_count": 2,
   "metadata": {},
   "outputs": [],
   "source": [
    "import numpy as np\n",
    "import pandas as pd\n",
    "import tensorflow as tf\n",
    "import matplotlib.pyplot as plt\n",
    "import numpy as np"
   ]
  },
  {
   "cell_type": "code",
   "execution_count": 3,
   "metadata": {},
   "outputs": [
    {
     "data": {
      "text/html": [
       "<div>\n",
       "<style scoped>\n",
       "    .dataframe tbody tr th:only-of-type {\n",
       "        vertical-align: middle;\n",
       "    }\n",
       "\n",
       "    .dataframe tbody tr th {\n",
       "        vertical-align: top;\n",
       "    }\n",
       "\n",
       "    .dataframe thead th {\n",
       "        text-align: right;\n",
       "    }\n",
       "</style>\n",
       "<table border=\"1\" class=\"dataframe\">\n",
       "  <thead>\n",
       "    <tr style=\"text-align: right;\">\n",
       "      <th></th>\n",
       "      <th>city</th>\n",
       "      <th>years</th>\n",
       "      <th>area</th>\n",
       "      <th>rooms</th>\n",
       "      <th>avg_heat_per_m</th>\n",
       "      <th>floor</th>\n",
       "      <th>building_type</th>\n",
       "      <th>heating_type</th>\n",
       "      <th>installation</th>\n",
       "      <th>price</th>\n",
       "    </tr>\n",
       "  </thead>\n",
       "  <tbody>\n",
       "    <tr>\n",
       "      <th>count</th>\n",
       "      <td>2592</td>\n",
       "      <td>2592.000000</td>\n",
       "      <td>2592.000000</td>\n",
       "      <td>2592.000000</td>\n",
       "      <td>960.000000</td>\n",
       "      <td>2592.000000</td>\n",
       "      <td>2592</td>\n",
       "      <td>2592</td>\n",
       "      <td>2592</td>\n",
       "      <td>2.592000e+03</td>\n",
       "    </tr>\n",
       "    <tr>\n",
       "      <th>unique</th>\n",
       "      <td>6</td>\n",
       "      <td>NaN</td>\n",
       "      <td>NaN</td>\n",
       "      <td>NaN</td>\n",
       "      <td>NaN</td>\n",
       "      <td>NaN</td>\n",
       "      <td>7</td>\n",
       "      <td>41</td>\n",
       "      <td>3</td>\n",
       "      <td>NaN</td>\n",
       "    </tr>\n",
       "    <tr>\n",
       "      <th>top</th>\n",
       "      <td>Vilnius</td>\n",
       "      <td>NaN</td>\n",
       "      <td>NaN</td>\n",
       "      <td>NaN</td>\n",
       "      <td>NaN</td>\n",
       "      <td>NaN</td>\n",
       "      <td>Mūrinis</td>\n",
       "      <td>Centrinis</td>\n",
       "      <td>Įrengtas</td>\n",
       "      <td>NaN</td>\n",
       "    </tr>\n",
       "    <tr>\n",
       "      <th>freq</th>\n",
       "      <td>1076</td>\n",
       "      <td>NaN</td>\n",
       "      <td>NaN</td>\n",
       "      <td>NaN</td>\n",
       "      <td>NaN</td>\n",
       "      <td>NaN</td>\n",
       "      <td>1575</td>\n",
       "      <td>1501</td>\n",
       "      <td>2587</td>\n",
       "      <td>NaN</td>\n",
       "    </tr>\n",
       "    <tr>\n",
       "      <th>mean</th>\n",
       "      <td>NaN</td>\n",
       "      <td>1980.495756</td>\n",
       "      <td>55.184121</td>\n",
       "      <td>2.258873</td>\n",
       "      <td>27.284479</td>\n",
       "      <td>3.415509</td>\n",
       "      <td>NaN</td>\n",
       "      <td>NaN</td>\n",
       "      <td>NaN</td>\n",
       "      <td>1.110489e+05</td>\n",
       "    </tr>\n",
       "    <tr>\n",
       "      <th>std</th>\n",
       "      <td>NaN</td>\n",
       "      <td>43.146900</td>\n",
       "      <td>26.472750</td>\n",
       "      <td>0.953026</td>\n",
       "      <td>15.716124</td>\n",
       "      <td>2.480608</td>\n",
       "      <td>NaN</td>\n",
       "      <td>NaN</td>\n",
       "      <td>NaN</td>\n",
       "      <td>9.612350e+04</td>\n",
       "    </tr>\n",
       "    <tr>\n",
       "      <th>min</th>\n",
       "      <td>NaN</td>\n",
       "      <td>1111.000000</td>\n",
       "      <td>2.000000</td>\n",
       "      <td>1.000000</td>\n",
       "      <td>0.980000</td>\n",
       "      <td>0.000000</td>\n",
       "      <td>NaN</td>\n",
       "      <td>NaN</td>\n",
       "      <td>NaN</td>\n",
       "      <td>6.000000e+03</td>\n",
       "    </tr>\n",
       "    <tr>\n",
       "      <th>25%</th>\n",
       "      <td>NaN</td>\n",
       "      <td>1968.000000</td>\n",
       "      <td>37.500000</td>\n",
       "      <td>2.000000</td>\n",
       "      <td>17.145000</td>\n",
       "      <td>2.000000</td>\n",
       "      <td>NaN</td>\n",
       "      <td>NaN</td>\n",
       "      <td>NaN</td>\n",
       "      <td>5.900000e+04</td>\n",
       "    </tr>\n",
       "    <tr>\n",
       "      <th>50%</th>\n",
       "      <td>NaN</td>\n",
       "      <td>1982.000000</td>\n",
       "      <td>50.755000</td>\n",
       "      <td>2.000000</td>\n",
       "      <td>25.000000</td>\n",
       "      <td>3.000000</td>\n",
       "      <td>NaN</td>\n",
       "      <td>NaN</td>\n",
       "      <td>NaN</td>\n",
       "      <td>8.500000e+04</td>\n",
       "    </tr>\n",
       "    <tr>\n",
       "      <th>75%</th>\n",
       "      <td>NaN</td>\n",
       "      <td>2003.000000</td>\n",
       "      <td>67.000000</td>\n",
       "      <td>3.000000</td>\n",
       "      <td>34.090000</td>\n",
       "      <td>5.000000</td>\n",
       "      <td>NaN</td>\n",
       "      <td>NaN</td>\n",
       "      <td>NaN</td>\n",
       "      <td>1.354450e+05</td>\n",
       "    </tr>\n",
       "    <tr>\n",
       "      <th>max</th>\n",
       "      <td>NaN</td>\n",
       "      <td>2022.000000</td>\n",
       "      <td>277.000000</td>\n",
       "      <td>8.000000</td>\n",
       "      <td>171.740000</td>\n",
       "      <td>31.000000</td>\n",
       "      <td>NaN</td>\n",
       "      <td>NaN</td>\n",
       "      <td>NaN</td>\n",
       "      <td>1.646000e+06</td>\n",
       "    </tr>\n",
       "  </tbody>\n",
       "</table>\n",
       "</div>"
      ],
      "text/plain": [
       "           city        years         area        rooms  avg_heat_per_m  \\\n",
       "count      2592  2592.000000  2592.000000  2592.000000      960.000000   \n",
       "unique        6          NaN          NaN          NaN             NaN   \n",
       "top     Vilnius          NaN          NaN          NaN             NaN   \n",
       "freq       1076          NaN          NaN          NaN             NaN   \n",
       "mean        NaN  1980.495756    55.184121     2.258873       27.284479   \n",
       "std         NaN    43.146900    26.472750     0.953026       15.716124   \n",
       "min         NaN  1111.000000     2.000000     1.000000        0.980000   \n",
       "25%         NaN  1968.000000    37.500000     2.000000       17.145000   \n",
       "50%         NaN  1982.000000    50.755000     2.000000       25.000000   \n",
       "75%         NaN  2003.000000    67.000000     3.000000       34.090000   \n",
       "max         NaN  2022.000000   277.000000     8.000000      171.740000   \n",
       "\n",
       "              floor building_type heating_type installation         price  \n",
       "count   2592.000000          2592         2592         2592  2.592000e+03  \n",
       "unique          NaN             7           41            3           NaN  \n",
       "top             NaN       Mūrinis    Centrinis     Įrengtas           NaN  \n",
       "freq            NaN          1575         1501         2587           NaN  \n",
       "mean       3.415509           NaN          NaN          NaN  1.110489e+05  \n",
       "std        2.480608           NaN          NaN          NaN  9.612350e+04  \n",
       "min        0.000000           NaN          NaN          NaN  6.000000e+03  \n",
       "25%        2.000000           NaN          NaN          NaN  5.900000e+04  \n",
       "50%        3.000000           NaN          NaN          NaN  8.500000e+04  \n",
       "75%        5.000000           NaN          NaN          NaN  1.354450e+05  \n",
       "max       31.000000           NaN          NaN          NaN  1.646000e+06  "
      ]
     },
     "execution_count": 3,
     "metadata": {},
     "output_type": "execute_result"
    }
   ],
   "source": [
    "dataset = pd.read_csv('data/soup_aruodas_2021_10_16-1507.csv', decimal=',')\n",
    "dataset = dataset[dataset['city'].isin(['Vilnius', 'Kaunas', 'Klaipėda', 'Palanga', 'Šiauliai', 'Panevėžys'])]\n",
    "dataset.describe(include='all')"
   ]
  },
  {
   "cell_type": "code",
   "execution_count": 4,
   "metadata": {},
   "outputs": [
    {
     "name": "stderr",
     "output_type": "stream",
     "text": [
      "C:\\Users\\VARTOT~1\\AppData\\Local\\Temp/ipykernel_10208/4244016801.py:3: FutureWarning: In a future version of pandas all arguments of DataFrame.drop except for the argument 'labels' will be keyword-only\n",
      "  cleanData = cleanData.drop(['avg_heat_per_m', 'heating_type', 'building_type', 'floor', 'installation'], 1)\n"
     ]
    }
   ],
   "source": [
    "# cleaning data\n",
    "cleanData = dataset.copy()\n",
    "cleanData = cleanData.drop(['avg_heat_per_m', 'heating_type', 'building_type', 'floor', 'installation'], 1)\n",
    "cleanData.dropna(inplace=True)\n",
    "# cleanData.describe(percentiles=None, include='all')"
   ]
  },
  {
   "cell_type": "code",
   "execution_count": 5,
   "metadata": {},
   "outputs": [],
   "source": [
    "# separating features set from dependent variable\n",
    "y = cleanData.iloc[:, -1].values\n",
    "y = y.reshape(len(y),1)\n",
    "X = cleanData.iloc[:, :-1]\n",
    "# encoding the categorical data\n",
    "X = pd.get_dummies(X, columns=['city']).values\n"
   ]
  },
  {
   "cell_type": "code",
   "execution_count": 6,
   "metadata": {},
   "outputs": [],
   "source": [
    "# splitting the dataset into the Training set and Test set\n",
    "from sklearn.model_selection import train_test_split\n",
    "X_train, X_test, y_train, y_test = train_test_split(X, y, test_size = 0.2, random_state = 0)"
   ]
  },
  {
   "cell_type": "code",
   "execution_count": 7,
   "metadata": {},
   "outputs": [],
   "source": [
    "# feature Scaling\n",
    "from sklearn.preprocessing import StandardScaler\n",
    "sc_X = StandardScaler()\n",
    "sc_y = StandardScaler()\n",
    "X_train = sc_X.fit_transform(X_train)\n",
    "X_test = sc_X.transform(X_test)\n",
    "y_train = sc_y.fit_transform(y_train)\n",
    "y_test = sc_y.transform(y_test)"
   ]
  },
  {
   "cell_type": "code",
   "execution_count": 8,
   "metadata": {},
   "outputs": [
    {
     "name": "stdout",
     "output_type": "stream",
     "text": [
      "                            OLS Regression Results                            \n",
      "==============================================================================\n",
      "Dep. Variable:                      y   R-squared:                       0.564\n",
      "Model:                            OLS   Adj. R-squared:                  0.562\n",
      "Method:                 Least Squares   F-statistic:                     334.0\n",
      "Date:                Sun, 05 Dec 2021   Prob (F-statistic):               0.00\n",
      "Time:                        12:12:37   Log-Likelihood:                -2080.7\n",
      "No. Observations:                2073   AIC:                             4179.\n",
      "Df Residuals:                    2064   BIC:                             4230.\n",
      "Df Model:                           8                                         \n",
      "Covariance Type:            nonrobust                                         \n",
      "==============================================================================\n",
      "                 coef    std err          t      P>|t|      [0.025      0.975]\n",
      "------------------------------------------------------------------------------\n",
      "const       5.204e-17      0.015   3.58e-15      1.000      -0.028       0.028\n",
      "x1             0.0504      0.015      3.382      0.001       0.021       0.080\n",
      "x2             0.7751      0.026     29.700      0.000       0.724       0.826\n",
      "x3            -0.1364      0.026     -5.231      0.000      -0.188      -0.085\n",
      "x4            -0.0707      0.012     -5.940      0.000      -0.094      -0.047\n",
      "x5            -0.1217      0.011    -10.945      0.000      -0.143      -0.100\n",
      "x6             0.1294      0.013      9.660      0.000       0.103       0.156\n",
      "x7            -0.1104      0.014     -8.093      0.000      -0.137      -0.084\n",
      "x8             0.1763      0.010     17.948      0.000       0.157       0.196\n",
      "x9            -0.0889      0.014     -6.572      0.000      -0.115      -0.062\n",
      "==============================================================================\n",
      "Omnibus:                     1926.416   Durbin-Watson:                   1.965\n",
      "Prob(Omnibus):                  0.000   Jarque-Bera (JB):           186707.774\n",
      "Skew:                           4.026   Prob(JB):                         0.00\n",
      "Kurtosis:                      48.790   Cond. No.                     7.41e+15\n",
      "==============================================================================\n",
      "\n",
      "Notes:\n",
      "[1] Standard Errors assume that the covariance matrix of the errors is correctly specified.\n",
      "[2] The smallest eigenvalue is 7.1e-29. This might indicate that there are\n",
      "strong multicollinearity problems or that the design matrix is singular.\n"
     ]
    }
   ],
   "source": [
    "#checking each feature significance\n",
    "import statsmodels.api as sm\n",
    "X_train_sm = np.array(X_train, dtype=float)\n",
    "X_train_sm = sm.add_constant(X_train_sm)\n",
    "lm_1 = sm.OLS(y_train, X_train_sm).fit()\n",
    "print(lm_1.summary())"
   ]
  },
  {
   "cell_type": "code",
   "execution_count": 9,
   "metadata": {},
   "outputs": [],
   "source": [
    "# defining ANN model\n",
    "def ann_model():\n",
    "    ann = tf.keras.models.Sequential()\n",
    "    ann.add(tf.keras.layers.Dense(units=5, activation='relu'))\n",
    "    ann.add(tf.keras.layers.Dense(units=5, activation='relu'))\n",
    "    ann.add(tf.keras.layers.Dense(units=5, activation='relu'))\n",
    "    ann.add(tf.keras.layers.Dense(units=1))\n",
    "    ann.compile(optimizer = 'adam', loss = 'mean_squared_error')\n",
    "    return ann"
   ]
  },
  {
   "cell_type": "code",
   "execution_count": 10,
   "metadata": {},
   "outputs": [],
   "source": [
    "ann = ann_model()\n",
    "history = ann.fit(X_train, y_train, batch_size = 32, epochs = 100, validation_data = (X_test, y_test), verbose = 0)"
   ]
  },
  {
   "cell_type": "code",
   "execution_count": 11,
   "metadata": {},
   "outputs": [
    {
     "data": {
      "image/png": "[encoded data removed]",
      "text/plain": [
       "<Figure size 432x288 with 1 Axes>"
      ]
     },
     "metadata": {
      "needs_background": "light"
     },
     "output_type": "display_data"
    }
   ],
   "source": [
    "#learning curve\n",
    "plt.plot(history.history['loss'])\n",
    "plt.plot(history.history['val_loss'])\n",
    "plt.title('Model loss')\n",
    "plt.ylabel('Loss')\n",
    "plt.xlabel('Epoch')\n",
    "plt.legend(['Train', 'Validation'], loc='upper right')\n",
    "plt.show()"
   ]
  },
  {
   "cell_type": "code",
   "execution_count": 12,
   "metadata": {},
   "outputs": [],
   "source": [
    "y_pred_train = sc_y.inverse_transform(ann.predict(X_train))\n",
    "y_pred = sc_y.inverse_transform(ann.predict(X_test))\n",
    "#np.set_printoptions(precision=2)\n",
    "#print(np.concatenate((y_pred.reshape(len(y_pred),1), sc_y.inverse_transform(y_test).reshape(len(y_test),1)),1))"
   ]
  },
  {
   "cell_type": "code",
   "execution_count": 13,
   "metadata": {},
   "outputs": [
    {
     "name": "stdout",
     "output_type": "stream",
     "text": [
      "0.6204226459954623\n",
      "0.613177533398541\n"
     ]
    }
   ],
   "source": [
    "from sklearn.metrics import r2_score\n",
    "print(r2_score(sc_y.inverse_transform(y_train), y_pred_train))\n",
    "print(r2_score(sc_y.inverse_transform(y_test), y_pred))"
   ]
  },
  {
   "cell_type": "code",
   "execution_count": 14,
   "metadata": {},
   "outputs": [
    {
     "data": {
      "image/png": "[encoded data removed]",
      "text/plain": [
       "<Figure size 432x288 with 1 Axes>"
      ]
     },
     "metadata": {
      "needs_background": "light"
     },
     "output_type": "display_data"
    }
   ],
   "source": [
    "# performances of the ANN model\n",
    "plt.scatter(sc_y.inverse_transform(y_test)/100000, y_pred/100000)\n",
    "plt.plot([0, 8], [0,8], '--k') \n",
    "plt.ylim(ymin=0, ymax=8)\n",
    "plt.xlim(xmin=0, xmax=8)\n",
    "plt.ylabel('True Price (x 100.000\\u20ac)')\n",
    "plt.xlabel('Predicted Price (x 100.000\\u20ac)')\n",
    "plt.legend(['True', 'Predicted'], loc='upper right')\n",
    "plt.show()"
   ]
  }
 ],
 "metadata": {
  "kernelspec": {
   "display_name": "Python 3 (ipykernel)",
   "language": "python",
   "name": "python3"
  },
  "language_info": {
   "codemirror_mode": {
    "name": "ipython",
    "version": 3
   },
   "file_extension": ".py",
   "mimetype": "text/x-python",
   "name": "python",
   "nbconvert_exporter": "python",
   "pygments_lexer": "ipython3",
   "version": "3.9.7"
  }
 },
 "nbformat": 4,
 "nbformat_minor": 4
}
